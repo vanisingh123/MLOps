{
 "cells": [
  {
   "cell_type": "code",
   "execution_count": 7,
   "id": "507cd320-8cea-4cd4-aaf6-af58d1a74650",
   "metadata": {},
   "outputs": [],
   "source": [
    "import mlflow\n",
    "import pandas as pd\n",
    "from sklearn.tree import DecisionTreeClassifier\n",
    "from sklearn.datasets import load_wine\n",
    "from sklearn.metrics import accuracy_score\n",
    "from sklearn.model_selection import cross_val_score, train_test_split"
   ]
  },
  {
   "cell_type": "code",
   "execution_count": 8,
   "id": "65e53d39-2fe6-4e93-ae81-42ad0763224a",
   "metadata": {},
   "outputs": [],
   "source": [
    "from sklearn import datasets\n",
    "\n",
    "iris = datasets.load_iris()\n",
    "X = iris.data\n",
    "y = iris.target"
   ]
  },
  {
   "cell_type": "code",
   "execution_count": 9,
   "id": "a335d85d-9570-4b46-b32f-42c49597d6a5",
   "metadata": {},
   "outputs": [],
   "source": [
    "X_train, X_test, y_train, y_test = train_test_split(X, y, test_size=0.3, random_state=123)"
   ]
  },
  {
   "cell_type": "code",
   "execution_count": 10,
   "id": "ce319020-51ab-4376-b65d-1c9c30e30fde",
   "metadata": {},
   "outputs": [],
   "source": [
    "iris_df = pd.DataFrame(iris.data, columns=iris.feature_names)\n",
    "iris_df['target'] = iris.target"
   ]
  },
  {
   "cell_type": "code",
   "execution_count": 11,
   "id": "9b82dcec-fca9-470a-a304-e87b0d609305",
   "metadata": {},
   "outputs": [
    {
     "name": "stderr",
     "output_type": "stream",
     "text": [
      "2025/04/16 23:08:53 INFO mlflow.tracking.fluent: Experiment with name 'gcp-experiment' does not exist. Creating a new experiment.\n"
     ]
    },
    {
     "data": {
      "text/plain": [
       "<Experiment: artifact_location='mlflow-artifacts:/1', creation_time=1744870133290, experiment_id='1', last_update_time=1744870133290, lifecycle_stage='active', name='gcp-experiment', tags={}>"
      ]
     },
     "execution_count": 11,
     "metadata": {},
     "output_type": "execute_result"
    }
   ],
   "source": [
    "mlflow.set_tracking_uri('https://mlflow-run-589163319261.us-west2.run.app')\n",
    "mlflow.set_experiment('gcp-experiment')"
   ]
  },
  {
   "cell_type": "code",
   "execution_count": 12,
   "id": "8847a44c-45e1-4e0f-b553-d61065311818",
   "metadata": {},
   "outputs": [
    {
     "name": "stdout",
     "output_type": "stream",
     "text": [
      "Logistic Regression Model Accuracy: 0.9333333333333333\n"
     ]
    },
    {
     "name": "stderr",
     "output_type": "stream",
     "text": [
      "2025/04/16 23:08:57 INFO mlflow.tracking._tracking_service.client: 🏃 View run fun-owl-370 at: https://mlflow-run-589163319261.us-west2.run.app/#/experiments/1/runs/caaba7c1a1764af095254bbd02bf5cf9.\n",
      "2025/04/16 23:08:57 INFO mlflow.tracking._tracking_service.client: 🧪 View experiment at: https://mlflow-run-589163319261.us-west2.run.app/#/experiments/1.\n"
     ]
    }
   ],
   "source": [
    "from sklearn.linear_model import LogisticRegression\n",
    "from sklearn.metrics import accuracy_score\n",
    "\n",
    "with mlflow.start_run():\n",
    "    model_lr = LogisticRegression(max_iter=200)\n",
    "    \n",
    "    model_lr.fit(X_train, y_train)\n",
    "    \n",
    "    y_pred = model_lr.predict(X_test)\n",
    "    accuracy = accuracy_score(y_test, y_pred)\n",
    "    \n",
    "    mlflow.log_param(\"model\", \"Logistic Regression\")\n",
    "    mlflow.log_metric(\"accuracy\", accuracy)\n",
    "    \n",
    "    print(f\"Logistic Regression Model Accuracy: {accuracy}\")"
   ]
  },
  {
   "cell_type": "code",
   "execution_count": 13,
   "id": "8d9f4d41-6f7d-45df-af92-26193f527bfe",
   "metadata": {},
   "outputs": [
    {
     "name": "stderr",
     "output_type": "stream",
     "text": [
      "2025/04/16 23:08:59 INFO mlflow.tracking._tracking_service.client: 🏃 View run bittersweet-goat-930 at: https://mlflow-run-589163319261.us-west2.run.app/#/experiments/1/runs/3424fe2f36d946d587ce9a8c27fb46a4.\n",
      "2025/04/16 23:08:59 INFO mlflow.tracking._tracking_service.client: 🧪 View experiment at: https://mlflow-run-589163319261.us-west2.run.app/#/experiments/1.\n"
     ]
    },
    {
     "name": "stdout",
     "output_type": "stream",
     "text": [
      "Decision Tree Model Accuracy: 0.9333333333333333\n"
     ]
    }
   ],
   "source": [
    "from sklearn.tree import DecisionTreeClassifier\n",
    "\n",
    "with mlflow.start_run():\n",
    "    model_dt = DecisionTreeClassifier(max_depth=3)\n",
    "\n",
    "    model_dt.fit(X_train, y_train)\n",
    "    \n",
    "    y_pred = model_dt.predict(X_test)\n",
    "    accuracy = accuracy_score(y_test, y_pred)\n",
    "    \n",
    "    mlflow.log_param(\"model\", \"Decision Tree\")\n",
    "    mlflow.log_metric(\"accuracy\", accuracy)\n",
    "\n",
    "    print(f\"Decision Tree Model Accuracy: {accuracy}\")"
   ]
  },
  {
   "cell_type": "code",
   "execution_count": 14,
   "id": "ce1680f6-616e-4adf-a926-6e92b5cc82af",
   "metadata": {},
   "outputs": [
    {
     "name": "stderr",
     "output_type": "stream",
     "text": [
      "2025/04/16 23:09:01 INFO mlflow.tracking._tracking_service.client: 🏃 View run stately-panda-522 at: https://mlflow-run-589163319261.us-west2.run.app/#/experiments/1/runs/886ad498b7ee4c53b83feb9f3d8d033a.\n",
      "2025/04/16 23:09:01 INFO mlflow.tracking._tracking_service.client: 🧪 View experiment at: https://mlflow-run-589163319261.us-west2.run.app/#/experiments/1.\n"
     ]
    },
    {
     "name": "stdout",
     "output_type": "stream",
     "text": [
      "Random Forest Model Accuracy: 0.9333333333333333\n"
     ]
    }
   ],
   "source": [
    "from sklearn.ensemble import RandomForestClassifier\n",
    "\n",
    "with mlflow.start_run():\n",
    "    model_rf = RandomForestClassifier(n_estimators=100)\n",
    "    \n",
    "    model_rf.fit(X_train, y_train)\n",
    "    \n",
    "    y_pred = model_rf.predict(X_test)\n",
    "    accuracy = accuracy_score(y_test, y_pred)\n",
    "    \n",
    "    mlflow.log_param(\"model\", \"Random Forest\")\n",
    "    mlflow.log_metric(\"accuracy\", accuracy)\n",
    "\n",
    "    print(f\"Random Forest Model Accuracy: {accuracy}\")"
   ]
  },
  {
   "cell_type": "code",
   "execution_count": 15,
   "id": "1398188e-1c8c-4073-8570-324955ee0d4e",
   "metadata": {},
   "outputs": [
    {
     "name": "stderr",
     "output_type": "stream",
     "text": [
      "2025/04/16 23:09:03 INFO mlflow.tracking._tracking_service.client: 🏃 View run welcoming-smelt-679 at: https://mlflow-run-589163319261.us-west2.run.app/#/experiments/1/runs/193d8185a7f2402ebb144da425b6a6c5.\n",
      "2025/04/16 23:09:03 INFO mlflow.tracking._tracking_service.client: 🧪 View experiment at: https://mlflow-run-589163319261.us-west2.run.app/#/experiments/1.\n"
     ]
    },
    {
     "name": "stdout",
     "output_type": "stream",
     "text": [
      "Tuned Decision Tree Model Accuracy: 0.9333333333333333\n"
     ]
    }
   ],
   "source": [
    "from sklearn.model_selection import GridSearchCV\n",
    "\n",
    "param_grid = {'max_depth': [3, 5, 7, 10]}\n",
    "grid_search = GridSearchCV(DecisionTreeClassifier(), param_grid, cv=5)\n",
    "\n",
    "with mlflow.start_run():\n",
    "    grid_search.fit(X_train, y_train)\n",
    "    best_model = grid_search.best_estimator_\n",
    "    \n",
    "    y_pred = best_model.predict(X_test)\n",
    "    accuracy = accuracy_score(y_test, y_pred)\n",
    "    \n",
    "    mlflow.log_param(\"model\", \"Tuned Decision Tree\")\n",
    "    mlflow.log_param(\"best_max_depth\", grid_search.best_params_[\"max_depth\"])\n",
    "    mlflow.log_metric(\"accuracy\", accuracy)\n",
    "    \n",
    "\n",
    "    print(f\"Tuned Decision Tree Model Accuracy: {accuracy}\")"
   ]
  },
  {
   "cell_type": "code",
   "execution_count": 16,
   "id": "d70e1f44-d3b3-4f43-936b-336e5e756d59",
   "metadata": {},
   "outputs": [
    {
     "name": "stdout",
     "output_type": "stream",
     "text": [
      "Top 3 Models: [('Random Forest', 0.9555555555555556), ('Logistic Regression', 0.9333333333333333), ('Decision Tree', 0.9333333333333333)]\n"
     ]
    }
   ],
   "source": [
    "model_accuracies = {\n",
    "    \"Logistic Regression\": 0.9333333333333333,\n",
    "    \"Decision Tree\": 0.9333333333333333,\n",
    "    \"Random Forest\": 0.9555555555555556\n",
    "}\n",
    "\n",
    "top_models = sorted(model_accuracies.items(), key=lambda x: x[1], reverse=True)[:3]\n",
    "print(\"Top 3 Models:\", top_models)"
   ]
  },
  {
   "cell_type": "code",
   "execution_count": 17,
   "id": "e036f59b-6ec1-40c6-99b4-4f735e08cdc4",
   "metadata": {},
   "outputs": [
    {
     "name": "stderr",
     "output_type": "stream",
     "text": [
      "2025/04/16 23:09:16 WARNING mlflow.models.model: Input example should be provided to infer model signature if the model signature is not provided when logging the model.\n"
     ]
    },
    {
     "name": "stdout",
     "output_type": "stream",
     "text": [
      "Final Model Test Accuracy: 0.9333333333333333\n"
     ]
    },
    {
     "name": "stderr",
     "output_type": "stream",
     "text": [
      "Successfully registered model 'FinalRandomForestModel'.\n",
      "2025/04/16 23:09:17 INFO mlflow.store.model_registry.abstract_store: Waiting up to 300 seconds for model version to finish creation. Model name: FinalRandomForestModel, version 1\n",
      "Created version '1' of model 'FinalRandomForestModel'.\n",
      "2025/04/16 23:09:17 INFO mlflow.tracking._tracking_service.client: 🏃 View run colorful-bird-811 at: https://mlflow-run-589163319261.us-west2.run.app/#/experiments/1/runs/6f963e23203a460d87e7a44f0801007a.\n",
      "2025/04/16 23:09:17 INFO mlflow.tracking._tracking_service.client: 🧪 View experiment at: https://mlflow-run-589163319261.us-west2.run.app/#/experiments/1.\n"
     ]
    }
   ],
   "source": [
    "from mlflow import log_metric, sklearn, register_model\n",
    "from sklearn.metrics import accuracy_score\n",
    "import mlflow\n",
    "\n",
    "final_model = model_rf\n",
    "\n",
    "with mlflow.start_run() as run:\n",
    "    # Step 1: Log the model\n",
    "    sklearn.log_model(final_model, artifact_path=\"final_model\")\n",
    "\n",
    "    # Step 2: Log accuracy\n",
    "    y_pred = final_model.predict(X_test)\n",
    "    final_accuracy = accuracy_score(y_test, y_pred)\n",
    "    log_metric(\"final_test_accuracy\", final_accuracy)\n",
    "    print(f\"Final Model Test Accuracy: {final_accuracy}\")\n",
    "\n",
    "    # Step 3: Register the model\n",
    "    model_uri = f\"runs:/{run.info.run_id}/final_model\"\n",
    "    mlflow.register_model(model_uri=model_uri, name=\"FinalRandomForestModel\")"
   ]
  },
  {
   "cell_type": "code",
   "execution_count": null,
   "id": "e348ba6a-7210-40aa-86e0-900fef2cf3c3",
   "metadata": {},
   "outputs": [],
   "source": []
  }
 ],
 "metadata": {
  "kernelspec": {
   "display_name": "Python (mlops)",
   "language": "python",
   "name": "mlops"
  },
  "language_info": {
   "codemirror_mode": {
    "name": "ipython",
    "version": 3
   },
   "file_extension": ".py",
   "mimetype": "text/x-python",
   "name": "python",
   "nbconvert_exporter": "python",
   "pygments_lexer": "ipython3",
   "version": "3.12.9"
  }
 },
 "nbformat": 4,
 "nbformat_minor": 5
}
