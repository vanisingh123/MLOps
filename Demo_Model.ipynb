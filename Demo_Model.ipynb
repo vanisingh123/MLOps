{
 "cells": [
  {
   "cell_type": "markdown",
   "id": "99e0d776-c5f5-4291-8f6d-c9031b736834",
   "metadata": {},
   "source": [
    "# Random Forest Model"
   ]
  },
  {
   "cell_type": "code",
   "execution_count": null,
   "id": "87199c20-a7e4-4036-a922-5a8df86e2d0d",
   "metadata": {},
   "outputs": [],
   "source": [
    "import pandas as pd\n",
    "import numpy as np\n",
    "import nfl_data_py as nfl\n",
    "from sklearn.model_selection import train_test_split\n",
    "from sklearn.ensemble import RandomForestClassifier\n",
    "from sklearn.metrics import accuracy_score, classification_report\n",
    "from sklearn.preprocessing import RobustScaler\n",
    "from sklearn.impute import SimpleImputer\n",
    "import matplotlib.pyplot as plt\n",
    "import seaborn as sns\n",
    "import warnings\n",
    "\n",
    "# Filter out the specific warnings we're getting\n",
    "warnings.filterwarnings('ignore', message='invalid value encountered in divide')\n",
    "\n",
    "# Set the random seed for reproducibility\n",
    "np.random.seed(42)"
   ]
  },
  {
   "cell_type": "code",
   "execution_count": 28,
   "id": "8a993cd9-a72f-493b-acd8-c273f96d5f4b",
   "metadata": {},
   "outputs": [
    {
     "name": "stdout",
     "output_type": "stream",
     "text": [
      "Collecting NFL data...\n",
      "2018 done.\n",
      "2019 done.\n",
      "2020 done.\n",
      "2021 done.\n",
      "2022 done.\n",
      "2023 done.\n",
      "Downcasting floats.\n",
      "Play-by-play data shape: (291093, 391)\n",
      "Schedule data shape: (1657, 46)\n"
     ]
    }
   ],
   "source": [
    "# --- 1. Data Collection ---\n",
    "print(\"Collecting NFL data...\")\n",
    "\n",
    "# Get play-by-play data from the last 5 seasons\n",
    "seasons = list(range(2018, 2024))\n",
    "pbp_data = nfl.import_pbp_data(seasons)\n",
    "\n",
    "# Get schedule data which includes betting information\n",
    "schedule_data = nfl.import_schedules(seasons)\n",
    "\n",
    "# Initial data quality check\n",
    "print(f\"Play-by-play data shape: {pbp_data.shape}\")\n",
    "print(f\"Schedule data shape: {schedule_data.shape}\")"
   ]
  },
  {
   "cell_type": "code",
   "execution_count": 29,
   "id": "a11be0cb-2d18-4ac3-bb7d-88f36b9986ea",
   "metadata": {},
   "outputs": [
    {
     "name": "stdout",
     "output_type": "stream",
     "text": [
      "Engineering features...\n",
      "Missing values in betting data:\n",
      "spread_line    0\n",
      "total_line     0\n",
      "dtype: int64\n"
     ]
    },
    {
     "name": "stderr",
     "output_type": "stream",
     "text": [
      "/var/folders/34/g4lmjsg53yn3m175jbcsg1gm0000gn/T/ipykernel_25360/1387372434.py:39: SettingWithCopyWarning: \n",
      "A value is trying to be set on a copy of a slice from a DataFrame.\n",
      "Try using .loc[row_indexer,col_indexer] = value instead\n",
      "\n",
      "See the caveats in the documentation: https://pandas.pydata.org/pandas-docs/stable/user_guide/indexing.html#returning-a-view-versus-a-copy\n",
      "  betting_df['spread_line'] = pd.to_numeric(betting_df['spread_line'], errors='coerce')\n",
      "/var/folders/34/g4lmjsg53yn3m175jbcsg1gm0000gn/T/ipykernel_25360/1387372434.py:40: SettingWithCopyWarning: \n",
      "A value is trying to be set on a copy of a slice from a DataFrame.\n",
      "Try using .loc[row_indexer,col_indexer] = value instead\n",
      "\n",
      "See the caveats in the documentation: https://pandas.pydata.org/pandas-docs/stable/user_guide/indexing.html#returning-a-view-versus-a-copy\n",
      "  betting_df['total_line'] = pd.to_numeric(betting_df['total_line'], errors='coerce')\n",
      "/var/folders/34/g4lmjsg53yn3m175jbcsg1gm0000gn/T/ipykernel_25360/1387372434.py:43: SettingWithCopyWarning: \n",
      "A value is trying to be set on a copy of a slice from a DataFrame.\n",
      "Try using .loc[row_indexer,col_indexer] = value instead\n",
      "\n",
      "See the caveats in the documentation: https://pandas.pydata.org/pandas-docs/stable/user_guide/indexing.html#returning-a-view-versus-a-copy\n",
      "  betting_df['home_team_margin'] = betting_df['home_score'] - betting_df['away_score']\n",
      "/var/folders/34/g4lmjsg53yn3m175jbcsg1gm0000gn/T/ipykernel_25360/1387372434.py:44: SettingWithCopyWarning: \n",
      "A value is trying to be set on a copy of a slice from a DataFrame.\n",
      "Try using .loc[row_indexer,col_indexer] = value instead\n",
      "\n",
      "See the caveats in the documentation: https://pandas.pydata.org/pandas-docs/stable/user_guide/indexing.html#returning-a-view-versus-a-copy\n",
      "  betting_df['home_team_covered'] = (betting_df['home_team_margin'] > betting_df['spread_line']).astype(int)\n"
     ]
    }
   ],
   "source": [
    "# --- 2. Feature Engineering ---\n",
    "print(\"Engineering features...\")\n",
    "\n",
    "# Create game-level aggregations from play-by-play data\n",
    "def aggregate_game_stats(pbp_df):\n",
    "    # Filter out rows with missing game_id or posteam\n",
    "    filtered_df = pbp_df.dropna(subset=['game_id', 'posteam'])\n",
    "    \n",
    "    # Group by game_id and team to calculate team stats per game\n",
    "    game_stats = filtered_df.groupby(['game_id', 'posteam']).agg({\n",
    "        'epa': ['mean', 'sum'],  # Efficiency metrics\n",
    "        'pass': ['sum'],         # Pass attempts\n",
    "        'rush': ['sum'],         # Rush attempts\n",
    "        'yards_gained': ['sum', 'mean'],  # Yardage\n",
    "        'first_down': ['sum'],   # First downs\n",
    "        'third_down_converted': ['sum'],  # Third down conversions\n",
    "        'third_down_failed': ['sum'],     # Third down failures\n",
    "        'fumble': ['sum'],       # Turnovers\n",
    "        'interception': ['sum'],\n",
    "        'penalty_yards': ['sum'] # Penalties\n",
    "    }).reset_index()\n",
    "    \n",
    "    # Flatten multi-level columns\n",
    "    game_stats.columns = ['_'.join(col).strip('_') for col in game_stats.columns.values]\n",
    "    \n",
    "    return game_stats\n",
    "\n",
    "game_stats = aggregate_game_stats(pbp_data)\n",
    "\n",
    "# Process schedule data to include betting information\n",
    "betting_df = schedule_data[['gameday', 'game_id', 'home_team', 'away_team', \n",
    "                            'home_score', 'away_score', 'spread_line', 'total_line']]\n",
    "\n",
    "# Check for missing values in betting columns\n",
    "print(\"Missing values in betting data:\")\n",
    "print(betting_df[['spread_line', 'total_line']].isnull().sum())\n",
    "\n",
    "# Convert spread_line to numeric, coercing errors to NaN\n",
    "betting_df['spread_line'] = pd.to_numeric(betting_df['spread_line'], errors='coerce')\n",
    "betting_df['total_line'] = pd.to_numeric(betting_df['total_line'], errors='coerce')\n",
    "\n",
    "# Create target variable: did the home team cover the spread?\n",
    "betting_df['home_team_margin'] = betting_df['home_score'] - betting_df['away_score']\n",
    "betting_df['home_team_covered'] = (betting_df['home_team_margin'] > betting_df['spread_line']).astype(int)\n",
    "\n",
    "# Drop rows where we can't determine if the spread was covered\n",
    "betting_df = betting_df.dropna(subset=['home_team_covered', 'spread_line'])"
   ]
  },
  {
   "cell_type": "code",
   "execution_count": 30,
   "id": "c8cf5522-8081-4da0-b663-b313a89e4577",
   "metadata": {},
   "outputs": [
    {
     "name": "stdout",
     "output_type": "stream",
     "text": [
      "Merging datasets...\n"
     ]
    }
   ],
   "source": [
    "# --- 3. Merge Game Stats with Betting Data ---\n",
    "print(\"Merging datasets...\")\n",
    "\n",
    "# Function to join team stats to the betting dataframe\n",
    "def create_full_dataset(betting_df, game_stats):\n",
    "    # Create separate home and away team features\n",
    "    dataset = betting_df.copy()\n",
    "    \n",
    "    # Convert game ID format to match between datasets if needed\n",
    "    game_stats['game_id'] = game_stats['game_id'].astype(str)\n",
    "    dataset['game_id'] = dataset['game_id'].astype(str)\n",
    "    \n",
    "    # Add team stats from previous games (this would be more complex in a real implementation)\n",
    "    # For demonstration, we'll create a simple dataset with just the betting information\n",
    "    \n",
    "    # Add basic features that should be available regardless of merge success\n",
    "    dataset['abs_spread'] = abs(dataset['spread_line'])\n",
    "    dataset['home_favorite'] = (dataset['spread_line'] < 0).astype(int)\n",
    "    \n",
    "    # Try to join home team stats - in a real implementation, you'd need to handle team codes correctly\n",
    "    try:\n",
    "        # Basic attempt to join home team stats\n",
    "        home_stats = game_stats.copy()\n",
    "        home_stats = home_stats.rename(columns={col: f'home_{col}' for col in home_stats.columns if col not in ['game_id', 'posteam']})\n",
    "        dataset = pd.merge(dataset, home_stats, left_on='game_id', right_on='game_id', how='left')\n",
    "        \n",
    "        # Same for away team stats\n",
    "        away_stats = game_stats.copy()\n",
    "        away_stats = away_stats.rename(columns={col: f'away_{col}' for col in away_stats.columns if col not in ['game_id', 'posteam']})\n",
    "        dataset = pd.merge(dataset, away_stats, left_on='game_id', right_on='game_id', how='left')\n",
    "    \n",
    "    except Exception as e:\n",
    "        print(f\"Warning: Could not merge team stats: {e}\")\n",
    "        # We'll continue with just the betting features\n",
    "    \n",
    "    # Drop duplicate columns\n",
    "    dataset = dataset.loc[:, ~dataset.columns.duplicated()]\n",
    "    \n",
    "    return dataset\n",
    "\n",
    "# Create the full dataset\n",
    "full_dataset = create_full_dataset(betting_df, game_stats)"
   ]
  },
  {
   "cell_type": "code",
   "execution_count": 31,
   "id": "fe46b047-78f7-4cec-91ff-aa46d9269fef",
   "metadata": {},
   "outputs": [
    {
     "name": "stdout",
     "output_type": "stream",
     "text": [
      "Preparing ML features...\n",
      "Using 28 features: ['spread_line', 'total_line', 'abs_spread', 'home_favorite', 'home_epa_mean', 'home_epa_sum', 'home_pass_sum', 'home_rush_sum', 'home_yards_gained_sum', 'home_yards_gained_mean', 'home_first_down_sum', 'home_third_down_converted_sum', 'home_third_down_failed_sum', 'home_fumble_sum', 'home_interception_sum', 'home_penalty_yards_sum', 'away_epa_mean', 'away_epa_sum', 'away_pass_sum', 'away_rush_sum', 'away_yards_gained_sum', 'away_yards_gained_mean', 'away_first_down_sum', 'away_third_down_converted_sum', 'away_third_down_failed_sum', 'away_fumble_sum', 'away_interception_sum', 'away_penalty_yards_sum']\n",
      "Missing values in features:\n",
      "Series([], dtype: int64)\n"
     ]
    }
   ],
   "source": [
    "# --- 4. Prepare ML Features ---\n",
    "print(\"Preparing ML features...\")\n",
    "\n",
    "# Select numerical features (avoid using target-related columns as features)\n",
    "exclude_cols = ['gameday', 'gameid', 'home_team', 'away_team', 'home_score', 'away_score', \n",
    "                'home_team_margin', 'home_team_covered', 'game_id', 'posteam']\n",
    "\n",
    "# Get all numeric columns\n",
    "numeric_cols = full_dataset.select_dtypes(include=[np.number]).columns.tolist()\n",
    "\n",
    "# Filter out excluded columns\n",
    "feature_cols = [col for col in numeric_cols if not any(ex in col for ex in exclude_cols)]\n",
    "\n",
    "# Ensure we have the basic betting features\n",
    "basic_features = ['spread_line', 'abs_spread', 'home_favorite', 'total_line']\n",
    "for feat in basic_features:\n",
    "    if feat in full_dataset.columns and feat not in feature_cols:\n",
    "        feature_cols.append(feat)\n",
    "\n",
    "# Make sure we have some features to work with\n",
    "if len(feature_cols) < 3:\n",
    "    print(\"Warning: Very few features available. Model may not perform well.\")\n",
    "    # Add simple features just to demonstrate the process\n",
    "    full_dataset['abs_spread'] = abs(full_dataset['spread_line'])\n",
    "    full_dataset['home_favorite'] = (full_dataset['spread_line'] < 0).astype(int)\n",
    "    feature_cols = ['abs_spread', 'home_favorite', 'total_line']\n",
    "\n",
    "# Print feature information\n",
    "print(f\"Using {len(feature_cols)} features: {feature_cols}\")\n",
    "\n",
    "X = full_dataset[feature_cols].copy()\n",
    "y = full_dataset['home_team_covered']\n",
    "\n",
    "# Check for missing values in features\n",
    "print(\"Missing values in features:\")\n",
    "missing_values = X.isnull().sum()\n",
    "print(missing_values[missing_values > 0])\n",
    "\n",
    "# Split data into training and testing sets\n",
    "X_train, X_test, y_train, y_test = train_test_split(X, y, test_size=0.2, random_state=42)"
   ]
  },
  {
   "cell_type": "code",
   "execution_count": 32,
   "id": "900ed579-10e2-4d25-b3a4-0e8f1d18adc3",
   "metadata": {},
   "outputs": [
    {
     "name": "stdout",
     "output_type": "stream",
     "text": [
      "Preprocessing features...\n"
     ]
    }
   ],
   "source": [
    "# --- 5. Feature Preprocessing ---\n",
    "print(\"Preprocessing features...\")\n",
    "\n",
    "# Handle missing values with imputation\n",
    "imputer = SimpleImputer(strategy='median')\n",
    "X_train_imputed = imputer.fit_transform(X_train)\n",
    "X_test_imputed = imputer.transform(X_test)\n",
    "\n",
    "# Check for any remaining NaN values after imputation\n",
    "if np.isnan(X_train_imputed).any():\n",
    "    print(\"Warning: NaN values still present after imputation\")\n",
    "    # Replace any remaining NaNs with 0\n",
    "    X_train_imputed = np.nan_to_num(X_train_imputed)\n",
    "    X_test_imputed = np.nan_to_num(X_test_imputed)\n",
    "\n",
    "# Use RobustScaler which is less affected by outliers\n",
    "scaler = RobustScaler()\n",
    "X_train_scaled = scaler.fit_transform(X_train_imputed)\n",
    "X_test_scaled = scaler.transform(X_test_imputed)"
   ]
  },
  {
   "cell_type": "code",
   "execution_count": 33,
   "id": "e3b5032d-4000-432e-a0a2-1b68935b7cf0",
   "metadata": {},
   "outputs": [
    {
     "name": "stdout",
     "output_type": "stream",
     "text": [
      "Building and training the model...\n"
     ]
    }
   ],
   "source": [
    "# --- 6. Build and Train the ML Model ---\n",
    "print(\"Building and training the model...\")\n",
    "\n",
    "# Random Forest Classifier with adjusted parameters\n",
    "rf_model = RandomForestClassifier(\n",
    "    n_estimators=100,\n",
    "    max_depth=10,  # Limit depth to prevent overfitting\n",
    "    min_samples_split=10,  # Require more samples to split a node\n",
    "    random_state=42\n",
    ")\n",
    "\n",
    "# Fit the model\n",
    "rf_model.fit(X_train_scaled, y_train)\n",
    "\n",
    "# Make predictions\n",
    "y_pred = rf_model.predict(X_test_scaled)\n",
    "prob_pred = rf_model.predict_proba(X_test_scaled)[:, 1]"
   ]
  },
  {
   "cell_type": "code",
   "execution_count": 34,
   "id": "0cb9c8b9-f311-4c84-8ad7-886c1558b4e2",
   "metadata": {},
   "outputs": [
    {
     "name": "stdout",
     "output_type": "stream",
     "text": [
      "Evaluating model performance...\n",
      "Model Accuracy: 0.7232\n",
      "\n",
      "Classification Report:\n",
      "              precision    recall  f1-score   support\n",
      "\n",
      "           0       0.69      0.87      0.77       701\n",
      "           1       0.80      0.56      0.65       625\n",
      "\n",
      "    accuracy                           0.72      1326\n",
      "   macro avg       0.74      0.71      0.71      1326\n",
      "weighted avg       0.74      0.72      0.72      1326\n",
      "\n",
      "\n",
      "Feature Importance:\n",
      "                   Feature  Importance\n",
      "0              spread_line    0.064610\n",
      "17            away_epa_sum    0.062844\n",
      "5             home_epa_sum    0.061536\n",
      "16           away_epa_mean    0.060643\n",
      "4            home_epa_mean    0.059821\n",
      "21  away_yards_gained_mean    0.051341\n",
      "1               total_line    0.049565\n",
      "9   home_yards_gained_mean    0.048616\n",
      "20   away_yards_gained_sum    0.048152\n",
      "15  home_penalty_yards_sum    0.047274\n"
     ]
    }
   ],
   "source": [
    "# --- 7. Evaluate the Model ---\n",
    "print(\"Evaluating model performance...\")\n",
    "\n",
    "accuracy = accuracy_score(y_test, y_pred)\n",
    "print(f\"Model Accuracy: {accuracy:.4f}\")\n",
    "print(\"\\nClassification Report:\")\n",
    "print(classification_report(y_test, y_pred))\n",
    "\n",
    "# Feature importance analysis\n",
    "feature_importance = pd.DataFrame({\n",
    "    'Feature': X.columns,\n",
    "    'Importance': rf_model.feature_importances_\n",
    "}).sort_values('Importance', ascending=False)\n",
    "\n",
    "print(\"\\nFeature Importance:\")\n",
    "print(feature_importance.head(10))"
   ]
  },
  {
   "cell_type": "code",
   "execution_count": 35,
   "id": "6e972a95-5f07-4f73-85f6-b99f5816293a",
   "metadata": {},
   "outputs": [
    {
     "name": "stdout",
     "output_type": "stream",
     "text": [
      "\n",
      "Simulating betting strategy...\n",
      "Bets placed: 352 out of 1326 opportunities\n",
      "Win rate: 0.8523\n",
      "Profit/Loss: $24280.00\n",
      "ROI: 0.6271\n"
     ]
    }
   ],
   "source": [
    "# --- 8. Betting Strategy Simulation ---\n",
    "print(\"\\nSimulating betting strategy...\")\n",
    "\n",
    "# Create a dataframe with test results\n",
    "test_results = pd.DataFrame({\n",
    "    'Actual': y_test.values,\n",
    "    'Predicted': y_pred,\n",
    "    'Probability': prob_pred\n",
    "})\n",
    "\n",
    "# Simulate a simple betting strategy: bet when model confidence > threshold\n",
    "threshold = 0.6\n",
    "test_results['Bet'] = (test_results['Probability'] > threshold) | (test_results['Probability'] < (1-threshold))\n",
    "test_results['Win'] = test_results['Predicted'] == test_results['Actual']\n",
    "\n",
    "# Calculate returns assuming -110 odds (bet 110 to win 100)\n",
    "test_results['Return'] = np.where(\n",
    "    test_results['Bet'] & test_results['Win'], 100, \n",
    "    np.where(test_results['Bet'] & ~test_results['Win'], -110, 0)\n",
    ")\n",
    "\n",
    "total_bets = test_results['Bet'].sum()\n",
    "winning_bets = test_results[test_results['Bet']]['Win'].sum()\n",
    "profit = test_results['Return'].sum()\n",
    "\n",
    "print(f\"Bets placed: {total_bets} out of {len(test_results)} opportunities\")\n",
    "if total_bets > 0:\n",
    "    print(f\"Win rate: {winning_bets/total_bets:.4f}\")\n",
    "    print(f\"Profit/Loss: ${profit:.2f}\")\n",
    "    print(f\"ROI: {profit / (total_bets * 110):.4f}\")\n",
    "else:\n",
    "    print(\"No bets were placed with the current threshold.\")"
   ]
  },
  {
   "cell_type": "code",
   "execution_count": 36,
   "id": "09eea3f8-3a37-40b6-ab81-2e1c60d487a5",
   "metadata": {},
   "outputs": [
    {
     "name": "stdout",
     "output_type": "stream",
     "text": [
      "Creating visualizations...\n",
      "Saved feature importance plot as 'feature_importance.png'\n",
      "Saved prediction distribution plot as 'prediction_distribution.png'\n",
      "\n",
      "Model development complete!\n",
      "\n",
      "Next steps:\n",
      "1. Add more sophisticated features like team trends and player data\n",
      "2. Experiment with different ML algorithms like XGBoost or neural networks\n",
      "3. Implement cross-validation for more robust performance assessment\n",
      "4. Fine-tune the betting strategy by considering odds movement\n"
     ]
    },
    {
     "data": {
      "image/png": "[encoded data removed]",
      "text/plain": [
       "<Figure size 1000x600 with 1 Axes>"
      ]
     },
     "metadata": {},
     "output_type": "display_data"
    },
    {
     "data": {
      "image/png": "[encoded data removed]",
      "text/plain": [
       "<Figure size 1000x600 with 1 Axes>"
      ]
     },
     "metadata": {},
     "output_type": "display_data"
    }
   ],
   "source": [
    "# --- 9. Visualization ---\n",
    "print(\"Creating visualizations...\")\n",
    "\n",
    "# Feature importance plot\n",
    "plt.figure(figsize=(10, 6))\n",
    "top_features = feature_importance.head(min(10, len(feature_importance)))\n",
    "sns.barplot(x='Importance', y='Feature', data=top_features)\n",
    "plt.title('Top Feature Importance')\n",
    "plt.tight_layout()\n",
    "plt.savefig('feature_importance.png')\n",
    "print(\"Saved feature importance plot as 'feature_importance.png'\")\n",
    "\n",
    "# Prediction probability distribution\n",
    "plt.figure(figsize=(10, 6))\n",
    "sns.histplot(prob_pred, bins=20, kde=True)\n",
    "plt.axvline(0.5, color='red', linestyle='--')\n",
    "plt.title('Distribution of Prediction Probabilities')\n",
    "plt.xlabel('Probability of Home Team Covering')\n",
    "plt.savefig('prediction_distribution.png')\n",
    "print(\"Saved prediction distribution plot as 'prediction_distribution.png'\")\n",
    "\n",
    "print(\"\\nModel development complete!\")\n",
    "print(\"\\nNext steps:\")\n",
    "print(\"1. Add more sophisticated features like team trends and player data\")\n",
    "print(\"2. Experiment with different ML algorithms like XGBoost or neural networks\")\n",
    "print(\"3. Implement cross-validation for more robust performance assessment\")\n",
    "print(\"4. Fine-tune the betting strategy by considering odds movement\")"
   ]
  },
  {
   "cell_type": "markdown",
   "id": "a00243f6-055f-45dc-b9aa-aec75a253248",
   "metadata": {},
   "source": [
    "#  XGBoost with Grid Search"
   ]
  },
  {
   "cell_type": "code",
   "execution_count": 43,
   "id": "49667a2b-6322-4341-b283-8b217709d666",
   "metadata": {},
   "outputs": [],
   "source": [
    "# NFL Betting ML Model with nflfastpy using XGBoost and Grid Search\n",
    "# This script builds a machine learning model to predict game outcomes against the spread\n",
    "\n",
    "import pandas as pd\n",
    "import numpy as np\n",
    "import nfl_data_py as nfl\n",
    "from sklearn.model_selection import train_test_split, GridSearchCV\n",
    "from sklearn.metrics import accuracy_score, classification_report\n",
    "from sklearn.preprocessing import RobustScaler\n",
    "from sklearn.impute import SimpleImputer\n",
    "import xgboost as xgb\n",
    "import matplotlib.pyplot as plt\n",
    "import seaborn as sns\n",
    "import warnings\n",
    "\n",
    "# Filter out warnings\n",
    "warnings.filterwarnings('ignore', message='invalid value encountered in divide')\n",
    "\n",
    "# Set the random seed for reproducibility\n",
    "np.random.seed(42)"
   ]
  },
  {
   "cell_type": "code",
   "execution_count": 44,
   "id": "e0ecdf0c-35c1-4bd8-a223-4303afdd4c72",
   "metadata": {},
   "outputs": [
    {
     "name": "stdout",
     "output_type": "stream",
     "text": [
      "Collecting NFL data...\n",
      "2018 done.\n",
      "2019 done.\n",
      "2020 done.\n",
      "2021 done.\n",
      "2022 done.\n",
      "2023 done.\n",
      "Downcasting floats.\n",
      "Play-by-play data shape: (291093, 391)\n",
      "Schedule data shape: (1657, 46)\n"
     ]
    }
   ],
   "source": [
    "# --- 1. Data Collection ---\n",
    "print(\"Collecting NFL data...\")\n",
    "\n",
    "# Get play-by-play data from the last 5 seasons\n",
    "seasons = list(range(2018, 2024))\n",
    "pbp_data = nfl.import_pbp_data(seasons)\n",
    "\n",
    "# Get schedule data which includes betting information\n",
    "schedule_data = nfl.import_schedules(seasons)\n",
    "\n",
    "# Initial data quality check\n",
    "print(f\"Play-by-play data shape: {pbp_data.shape}\")\n",
    "print(f\"Schedule data shape: {schedule_data.shape}\")"
   ]
  },
  {
   "cell_type": "code",
   "execution_count": 45,
   "id": "05f7a811-d0ce-46ca-8589-e260f17d3607",
   "metadata": {},
   "outputs": [
    {
     "name": "stdout",
     "output_type": "stream",
     "text": [
      "Engineering features...\n",
      "Missing values in betting data:\n",
      "spread_line    0\n",
      "total_line     0\n",
      "dtype: int64\n"
     ]
    },
    {
     "name": "stderr",
     "output_type": "stream",
     "text": [
      "/var/folders/34/g4lmjsg53yn3m175jbcsg1gm0000gn/T/ipykernel_25360/1387372434.py:39: SettingWithCopyWarning: \n",
      "A value is trying to be set on a copy of a slice from a DataFrame.\n",
      "Try using .loc[row_indexer,col_indexer] = value instead\n",
      "\n",
      "See the caveats in the documentation: https://pandas.pydata.org/pandas-docs/stable/user_guide/indexing.html#returning-a-view-versus-a-copy\n",
      "  betting_df['spread_line'] = pd.to_numeric(betting_df['spread_line'], errors='coerce')\n",
      "/var/folders/34/g4lmjsg53yn3m175jbcsg1gm0000gn/T/ipykernel_25360/1387372434.py:40: SettingWithCopyWarning: \n",
      "A value is trying to be set on a copy of a slice from a DataFrame.\n",
      "Try using .loc[row_indexer,col_indexer] = value instead\n",
      "\n",
      "See the caveats in the documentation: https://pandas.pydata.org/pandas-docs/stable/user_guide/indexing.html#returning-a-view-versus-a-copy\n",
      "  betting_df['total_line'] = pd.to_numeric(betting_df['total_line'], errors='coerce')\n",
      "/var/folders/34/g4lmjsg53yn3m175jbcsg1gm0000gn/T/ipykernel_25360/1387372434.py:43: SettingWithCopyWarning: \n",
      "A value is trying to be set on a copy of a slice from a DataFrame.\n",
      "Try using .loc[row_indexer,col_indexer] = value instead\n",
      "\n",
      "See the caveats in the documentation: https://pandas.pydata.org/pandas-docs/stable/user_guide/indexing.html#returning-a-view-versus-a-copy\n",
      "  betting_df['home_team_margin'] = betting_df['home_score'] - betting_df['away_score']\n",
      "/var/folders/34/g4lmjsg53yn3m175jbcsg1gm0000gn/T/ipykernel_25360/1387372434.py:44: SettingWithCopyWarning: \n",
      "A value is trying to be set on a copy of a slice from a DataFrame.\n",
      "Try using .loc[row_indexer,col_indexer] = value instead\n",
      "\n",
      "See the caveats in the documentation: https://pandas.pydata.org/pandas-docs/stable/user_guide/indexing.html#returning-a-view-versus-a-copy\n",
      "  betting_df['home_team_covered'] = (betting_df['home_team_margin'] > betting_df['spread_line']).astype(int)\n"
     ]
    }
   ],
   "source": [
    "# --- 2. Feature Engineering ---\n",
    "print(\"Engineering features...\")\n",
    "\n",
    "# Create game-level aggregations from play-by-play data\n",
    "def aggregate_game_stats(pbp_df):\n",
    "    # Filter out rows with missing game_id or posteam\n",
    "    filtered_df = pbp_df.dropna(subset=['game_id', 'posteam'])\n",
    "    \n",
    "    # Group by game_id and team to calculate team stats per game\n",
    "    game_stats = filtered_df.groupby(['game_id', 'posteam']).agg({\n",
    "        'epa': ['mean', 'sum'],  # Efficiency metrics\n",
    "        'pass': ['sum'],         # Pass attempts\n",
    "        'rush': ['sum'],         # Rush attempts\n",
    "        'yards_gained': ['sum', 'mean'],  # Yardage\n",
    "        'first_down': ['sum'],   # First downs\n",
    "        'third_down_converted': ['sum'],  # Third down conversions\n",
    "        'third_down_failed': ['sum'],     # Third down failures\n",
    "        'fumble': ['sum'],       # Turnovers\n",
    "        'interception': ['sum'],\n",
    "        'penalty_yards': ['sum'] # Penalties\n",
    "    }).reset_index()\n",
    "    \n",
    "    # Flatten multi-level columns\n",
    "    game_stats.columns = ['_'.join(col).strip('_') for col in game_stats.columns.values]\n",
    "    \n",
    "    return game_stats\n",
    "\n",
    "game_stats = aggregate_game_stats(pbp_data)\n",
    "\n",
    "# Process schedule data to include betting information\n",
    "betting_df = schedule_data[['gameday', 'game_id', 'home_team', 'away_team', \n",
    "                            'home_score', 'away_score', 'spread_line', 'total_line']]\n",
    "\n",
    "# Check for missing values in betting columns\n",
    "print(\"Missing values in betting data:\")\n",
    "print(betting_df[['spread_line', 'total_line']].isnull().sum())\n",
    "\n",
    "# Convert spread_line to numeric, coercing errors to NaN\n",
    "betting_df['spread_line'] = pd.to_numeric(betting_df['spread_line'], errors='coerce')\n",
    "betting_df['total_line'] = pd.to_numeric(betting_df['total_line'], errors='coerce')\n",
    "\n",
    "# Create target variable: did the home team cover the spread?\n",
    "betting_df['home_team_margin'] = betting_df['home_score'] - betting_df['away_score']\n",
    "betting_df['home_team_covered'] = (betting_df['home_team_margin'] > betting_df['spread_line']).astype(int)\n",
    "\n",
    "# Drop rows where we can't determine if the spread was covered\n",
    "betting_df = betting_df.dropna(subset=['home_team_covered', 'spread_line'])"
   ]
  },
  {
   "cell_type": "code",
   "execution_count": 46,
   "id": "ece6d3c0-4168-4d19-a9a0-31d221fa6674",
   "metadata": {},
   "outputs": [
    {
     "name": "stdout",
     "output_type": "stream",
     "text": [
      "Merging datasets...\n"
     ]
    }
   ],
   "source": [
    "# --- 3. Merge Game Stats with Betting Data ---\n",
    "print(\"Merging datasets...\")\n",
    "\n",
    "# Function to join team stats to the betting dataframe\n",
    "def create_full_dataset(betting_df, game_stats):\n",
    "    # Create separate home and away team features\n",
    "    dataset = betting_df.copy()\n",
    "    \n",
    "    # Convert game ID format to match between datasets if needed\n",
    "    game_stats['game_id'] = game_stats['game_id'].astype(str)\n",
    "    dataset['game_id'] = dataset['game_id'].astype(str)\n",
    "    \n",
    "    # Add basic features that should be available regardless of merge success\n",
    "    dataset['abs_spread'] = abs(dataset['spread_line'])\n",
    "    dataset['home_favorite'] = (dataset['spread_line'] < 0).astype(int)\n",
    "    \n",
    "    # Try to join home team stats - in a real implementation, you'd need to handle team codes correctly\n",
    "    try:\n",
    "        # Basic attempt to join home team stats\n",
    "        home_stats = game_stats.copy()\n",
    "        home_stats = home_stats.rename(columns={col: f'home_{col}' for col in home_stats.columns if col not in ['game_id', 'posteam']})\n",
    "        dataset = pd.merge(dataset, home_stats, left_on='game_id', right_on='game_id', how='left')\n",
    "        \n",
    "        # Same for away team stats\n",
    "        away_stats = game_stats.copy()\n",
    "        away_stats = away_stats.rename(columns={col: f'away_{col}' for col in away_stats.columns if col not in ['game_id', 'posteam']})\n",
    "        dataset = pd.merge(dataset, away_stats, left_on='game_id', right_on='game_id', how='left')\n",
    "    \n",
    "    except Exception as e:\n",
    "        print(f\"Warning: Could not merge team stats: {e}\")\n",
    "        # We'll continue with just the betting features\n",
    "    \n",
    "    # Drop duplicate columns\n",
    "    dataset = dataset.loc[:, ~dataset.columns.duplicated()]\n",
    "    \n",
    "    return dataset\n",
    "\n",
    "# Create the full dataset\n",
    "full_dataset = create_full_dataset(betting_df, game_stats)"
   ]
  },
  {
   "cell_type": "code",
   "execution_count": 47,
   "id": "4a72f074-dd45-4f64-a51f-569b243dad51",
   "metadata": {},
   "outputs": [
    {
     "name": "stdout",
     "output_type": "stream",
     "text": [
      "Preparing ML features...\n",
      "Using 28 features: ['spread_line', 'total_line', 'abs_spread', 'home_favorite', 'home_epa_mean', 'home_epa_sum', 'home_pass_sum', 'home_rush_sum', 'home_yards_gained_sum', 'home_yards_gained_mean', 'home_first_down_sum', 'home_third_down_converted_sum', 'home_third_down_failed_sum', 'home_fumble_sum', 'home_interception_sum', 'home_penalty_yards_sum', 'away_epa_mean', 'away_epa_sum', 'away_pass_sum', 'away_rush_sum', 'away_yards_gained_sum', 'away_yards_gained_mean', 'away_first_down_sum', 'away_third_down_converted_sum', 'away_third_down_failed_sum', 'away_fumble_sum', 'away_interception_sum', 'away_penalty_yards_sum']\n",
      "Missing values in features:\n",
      "Series([], dtype: int64)\n"
     ]
    }
   ],
   "source": [
    "# --- 4. Prepare ML Features ---\n",
    "print(\"Preparing ML features...\")\n",
    "\n",
    "# Select numerical features (avoid using target-related columns as features)\n",
    "exclude_cols = ['gameday', 'gameid', 'home_team', 'away_team', 'home_score', 'away_score', \n",
    "                'home_team_margin', 'home_team_covered', 'game_id', 'posteam']\n",
    "\n",
    "# Get all numeric columns\n",
    "numeric_cols = full_dataset.select_dtypes(include=[np.number]).columns.tolist()\n",
    "\n",
    "# Filter out excluded columns\n",
    "feature_cols = [col for col in numeric_cols if not any(ex in col for ex in exclude_cols)]\n",
    "\n",
    "# Ensure we have the basic betting features\n",
    "basic_features = ['spread_line', 'abs_spread', 'home_favorite', 'total_line']\n",
    "for feat in basic_features:\n",
    "    if feat in full_dataset.columns and feat not in feature_cols:\n",
    "        feature_cols.append(feat)\n",
    "\n",
    "# Make sure we have some features to work with\n",
    "if len(feature_cols) < 3:\n",
    "    print(\"Warning: Very few features available. Model may not perform well.\")\n",
    "    # Add simple features just to demonstrate the process\n",
    "    full_dataset['abs_spread'] = abs(full_dataset['spread_line'])\n",
    "    full_dataset['home_favorite'] = (full_dataset['spread_line'] < 0).astype(int)\n",
    "    feature_cols = ['abs_spread', 'home_favorite', 'total_line']\n",
    "\n",
    "# Print feature information\n",
    "print(f\"Using {len(feature_cols)} features: {feature_cols}\")\n",
    "\n",
    "X = full_dataset[feature_cols].copy()\n",
    "y = full_dataset['home_team_covered']\n",
    "\n",
    "# Check for missing values in features\n",
    "print(\"Missing values in features:\")\n",
    "missing_values = X.isnull().sum()\n",
    "print(missing_values[missing_values > 0])\n",
    "\n",
    "# Split data into training and testing sets\n",
    "X_train, X_test, y_train, y_test = train_test_split(X, y, test_size=0.2, random_state=42)"
   ]
  },
  {
   "cell_type": "code",
   "execution_count": 48,
   "id": "364aa8df-e4e8-4125-a138-d89a1c07c27e",
   "metadata": {},
   "outputs": [
    {
     "name": "stdout",
     "output_type": "stream",
     "text": [
      "Preprocessing features...\n"
     ]
    }
   ],
   "source": [
    "# --- 5. Feature Preprocessing ---\n",
    "print(\"Preprocessing features...\")\n",
    "\n",
    "# Handle missing values with imputation\n",
    "imputer = SimpleImputer(strategy='median')\n",
    "X_train_imputed = imputer.fit_transform(X_train)\n",
    "X_test_imputed = imputer.transform(X_test)\n",
    "\n",
    "# Check for any remaining NaN values after imputation\n",
    "if np.isnan(X_train_imputed).any():\n",
    "    print(\"Warning: NaN values still present after imputation\")\n",
    "    # Replace any remaining NaNs with 0\n",
    "    X_train_imputed = np.nan_to_num(X_train_imputed)\n",
    "    X_test_imputed = np.nan_to_num(X_test_imputed)\n",
    "\n",
    "# Use RobustScaler which is less affected by outliers\n",
    "scaler = RobustScaler()\n",
    "X_train_scaled = scaler.fit_transform(X_train_imputed)\n",
    "X_test_scaled = scaler.transform(X_test_imputed)"
   ]
  },
  {
   "cell_type": "code",
   "execution_count": 69,
   "id": "eb0b37ea-f7c7-40e3-9386-ddbb72325886",
   "metadata": {},
   "outputs": [
    {
     "name": "stdout",
     "output_type": "stream",
     "text": [
      "Setting up XGBoost with Grid Search...\n",
      "Total parameter combinations: 58320\n"
     ]
    },
    {
     "name": "stderr",
     "output_type": "stream",
     "text": [
      "Grid Search Progress: 100%|██████████████████████████████████████████████████████████████████████████████████████████████| 58320/58320 [10:22:46<00:00,  1.56it/s]"
     ]
    },
    {
     "name": "stdout",
     "output_type": "stream",
     "text": [
      "\n",
      "Best parameters found:\n",
      "n_estimators: 300\n",
      "max_depth: 11\n",
      "learning_rate: 0.05\n",
      "subsample: 1.0\n",
      "colsample_bytree: 0.8\n",
      "gamma: 0.1\n",
      "min_child_weight: 1\n",
      "reg_alpha: 0\n",
      "reg_lambda: 0.1\n"
     ]
    },
    {
     "name": "stderr",
     "output_type": "stream",
     "text": [
      "\n"
     ]
    }
   ],
   "source": [
    "# --- 6. Build and Train the XGBoost Model with Grid Search ---\n",
    "import xgboost as xgb\n",
    "import itertools\n",
    "from sklearn.model_selection import train_test_split\n",
    "from sklearn.metrics import accuracy_score\n",
    "from tqdm import tqdm\n",
    "\n",
    "print(\"Setting up XGBoost with Grid Search...\")\n",
    "\n",
    "# Define the XGBoost classifier\n",
    "xgb_model = xgb.XGBClassifier(\n",
    "    eval_metric='logloss',\n",
    "    random_state=42\n",
    ")\n",
    "\n",
    "# Define the parameter grid\n",
    "param_grid = {\n",
    "    'n_estimators': [50, 100, 200, 300],\n",
    "    'max_depth': [3, 5, 7, 9, 11],\n",
    "    'learning_rate': [0.001, 0.01, 0.05],\n",
    "    'subsample': [0.6, 0.8, 1.0],\n",
    "    'colsample_bytree': [0.6, 0.8, 1.0],\n",
    "    'gamma': [0, 0.1, 0.2],\n",
    "    'min_child_weight': [1, 3, 5],\n",
    "    'reg_alpha': [0, 0.1, 0.5, 1.0],\n",
    "    'reg_lambda': [0.1, 0.5, 1.0]\n",
    "}\n",
    "\n",
    "# Generate all combinations of hyperparameters\n",
    "param_combinations = list(itertools.product(\n",
    "    param_grid['n_estimators'],\n",
    "    param_grid['max_depth'],\n",
    "    param_grid['learning_rate'],\n",
    "    param_grid['subsample'],\n",
    "    param_grid['colsample_bytree'],\n",
    "    param_grid['gamma'],\n",
    "    param_grid['min_child_weight'],\n",
    "    param_grid['reg_alpha'],\n",
    "    param_grid['reg_lambda']\n",
    "))\n",
    "\n",
    "print(f\"Total parameter combinations: {len(param_combinations)}\")\n",
    "best_score = 0\n",
    "best_params = None\n",
    "best_model = None\n",
    "\n",
    "# Progress bar for tracking\n",
    "with tqdm(total=len(param_combinations), desc=\"Grid Search Progress\") as pbar:\n",
    "    for params in param_combinations:\n",
    "        # Extract parameters\n",
    "        param_dict = {\n",
    "            'n_estimators': params[0],\n",
    "            'max_depth': params[1],\n",
    "            'learning_rate': params[2],\n",
    "            'subsample': params[3],\n",
    "            'colsample_bytree': params[4],\n",
    "            'gamma': params[5],\n",
    "            'min_child_weight': params[6],\n",
    "            'reg_alpha': params[7],\n",
    "            'reg_lambda': params[8]\n",
    "        }\n",
    "\n",
    "        # Train model\n",
    "        model = xgb.XGBClassifier(eval_metric='logloss', random_state=42, **param_dict)\n",
    "        model.fit(X_train_scaled, y_train)\n",
    "\n",
    "        # Evaluate performance\n",
    "        y_val_pred = model.predict(X_test_scaled)\n",
    "        score = accuracy_score(y_test, y_val_pred)\n",
    "\n",
    "        # Check for best model\n",
    "        if score > best_score:\n",
    "            best_score = score\n",
    "            best_params = param_dict\n",
    "            best_model = model\n",
    "\n",
    "        # Update progress bar\n",
    "        pbar.update(1)\n",
    "\n",
    "print(\"\\nBest parameters found:\")\n",
    "for param, value in best_params.items():\n",
    "    print(f\"{param}: {value}\")\n",
    "\n",
    "# Make predictions with the best model\n",
    "y_pred = best_model.predict(X_test_scaled)\n",
    "prob_pred = best_model.predict_proba(X_test_scaled)[:, 1]"
   ]
  },
  {
   "cell_type": "code",
   "execution_count": 70,
   "id": "689fa9a8-e836-498c-b795-77fb0e7e10ed",
   "metadata": {},
   "outputs": [
    {
     "name": "stdout",
     "output_type": "stream",
     "text": [
      "\n",
      "Evaluating model performance...\n",
      "Model Accuracy: 0.8982\n",
      "\n",
      "Classification Report:\n",
      "              precision    recall  f1-score   support\n",
      "\n",
      "           0       0.89      0.92      0.91       701\n",
      "           1       0.91      0.87      0.89       625\n",
      "\n",
      "    accuracy                           0.90      1326\n",
      "   macro avg       0.90      0.90      0.90      1326\n",
      "weighted avg       0.90      0.90      0.90      1326\n",
      "\n",
      "\n",
      "Feature Importance:\n",
      "                       Feature  Importance\n",
      "17                away_epa_sum    0.048140\n",
      "0                  spread_line    0.045295\n",
      "5                 home_epa_sum    0.043439\n",
      "16               away_epa_mean    0.041128\n",
      "4                home_epa_mean    0.039457\n",
      "21      away_yards_gained_mean    0.038217\n",
      "19               away_rush_sum    0.037880\n",
      "8        home_yards_gained_sum    0.037166\n",
      "20       away_yards_gained_sum    0.037096\n",
      "24  away_third_down_failed_sum    0.036341\n",
      "\n",
      "Cross-validation results:\n"
     ]
    },
    {
     "ename": "AttributeError",
     "evalue": "'GridSearchCV' object has no attribute 'best_score_'",
     "output_type": "error",
     "traceback": [
      "\u001b[31m---------------------------------------------------------------------------\u001b[39m",
      "\u001b[31mAttributeError\u001b[39m                            Traceback (most recent call last)",
      "\u001b[36mCell\u001b[39m\u001b[36m \u001b[39m\u001b[32mIn[70]\u001b[39m\u001b[32m, line 20\u001b[39m\n\u001b[32m     18\u001b[39m \u001b[38;5;66;03m# Cross-validation results\u001b[39;00m\n\u001b[32m     19\u001b[39m \u001b[38;5;28mprint\u001b[39m(\u001b[33m\"\u001b[39m\u001b[38;5;130;01m\\n\u001b[39;00m\u001b[33mCross-validation results:\u001b[39m\u001b[33m\"\u001b[39m)\n\u001b[32m---> \u001b[39m\u001b[32m20\u001b[39m \u001b[38;5;28mprint\u001b[39m(\u001b[33mf\u001b[39m\u001b[33m\"\u001b[39m\u001b[33mMean CV Score: \u001b[39m\u001b[38;5;132;01m{\u001b[39;00m\u001b[43mgrid_search\u001b[49m\u001b[43m.\u001b[49m\u001b[43mbest_score_\u001b[49m\u001b[38;5;132;01m:\u001b[39;00m\u001b[33m.4f\u001b[39m\u001b[38;5;132;01m}\u001b[39;00m\u001b[33m\"\u001b[39m)\n\u001b[32m     21\u001b[39m \u001b[38;5;28mprint\u001b[39m(\u001b[33mf\u001b[39m\u001b[33m\"\u001b[39m\u001b[33mStandard Deviation: \u001b[39m\u001b[38;5;132;01m{\u001b[39;00mnp.std(grid_search.cv_results_[\u001b[33m'\u001b[39m\u001b[33msplit0_test_score\u001b[39m\u001b[33m'\u001b[39m])\u001b[38;5;132;01m:\u001b[39;00m\u001b[33m.4f\u001b[39m\u001b[38;5;132;01m}\u001b[39;00m\u001b[33m\"\u001b[39m)\n",
      "\u001b[31mAttributeError\u001b[39m: 'GridSearchCV' object has no attribute 'best_score_'"
     ]
    }
   ],
   "source": [
    "# --- 7. Evaluate the Model ---\n",
    "print(\"\\nEvaluating model performance...\")\n",
    "\n",
    "accuracy = accuracy_score(y_test, y_pred)\n",
    "print(f\"Model Accuracy: {accuracy:.4f}\")\n",
    "print(\"\\nClassification Report:\")\n",
    "print(classification_report(y_test, y_pred))\n",
    "\n",
    "# Feature importance analysis\n",
    "feature_importance = pd.DataFrame({\n",
    "    'Feature': X.columns,\n",
    "    'Importance': best_model.feature_importances_\n",
    "}).sort_values('Importance', ascending=False)\n",
    "\n",
    "print(\"\\nFeature Importance:\")\n",
    "print(feature_importance.head(10))\n",
    "\n",
    "# Cross-validation results\n",
    "print(\"\\nCross-validation results:\")\n",
    "print(f\"Mean CV Score: {grid_search.best_score_:.4f}\")\n",
    "print(f\"Standard Deviation: {np.std(grid_search.cv_results_['split0_test_score']):.4f}\")"
   ]
  },
  {
   "cell_type": "code",
   "execution_count": 71,
   "id": "e6be1382-b861-4023-b512-b6297c0d5c1c",
   "metadata": {},
   "outputs": [
    {
     "name": "stdout",
     "output_type": "stream",
     "text": [
      "\n",
      "Simulating betting strategy...\n",
      "\n",
      "Betting Strategy Results for Different Confidence Thresholds:\n",
      "   Threshold  Total Bets  Win Rate  Profit       ROI\n",
      "0       0.50        1326  0.898190  104250  0.714726\n",
      "1       0.55        1253  0.913807  102620  0.744540\n",
      "2       0.60        1162  0.929432   98980  0.774370\n",
      "3       0.65        1082  0.942699   95180  0.799698\n",
      "4       0.70         974  0.957906   88790  0.828729\n",
      "5       0.80         726  0.976584   69030  0.864388\n",
      "6       0.90         321  0.990654   31470  0.891249\n",
      "\n",
      "Optimal threshold: 0.9\n",
      "With this threshold, you would place 321.0 bets\n",
      "Win rate: 0.9907\n",
      "Profit: $31470.00\n",
      "ROI: 0.8912\n"
     ]
    }
   ],
   "source": [
    "# --- 8. Betting Strategy Simulation ---\n",
    "print(\"\\nSimulating betting strategy...\")\n",
    "\n",
    "# Create a dataframe with test results\n",
    "test_results = pd.DataFrame({\n",
    "    'Actual': y_test.values,\n",
    "    'Predicted': y_pred,\n",
    "    'Probability': prob_pred\n",
    "})\n",
    "\n",
    "# Simulate betting strategies with different confidence thresholds\n",
    "thresholds = [0.5, 0.55, 0.6, 0.65, 0.7, 0.8, 0.9]\n",
    "results = []\n",
    "\n",
    "for threshold in thresholds:\n",
    "    # Bet when model confidence > threshold (for home team) or < (1-threshold) for away team\n",
    "    test_results['Bet'] = (test_results['Probability'] > threshold) | (test_results['Probability'] < (1-threshold))\n",
    "    test_results['Win'] = test_results['Predicted'] == test_results['Actual']\n",
    "    \n",
    "    # Calculate returns assuming -110 odds (bet 110 to win 100)\n",
    "    test_results['Return'] = np.where(\n",
    "        test_results['Bet'] & test_results['Win'], 100, \n",
    "        np.where(test_results['Bet'] & ~test_results['Win'], -110, 0)\n",
    "    )\n",
    "    \n",
    "    total_bets = test_results['Bet'].sum()\n",
    "    if total_bets > 0:\n",
    "        winning_bets = test_results[test_results['Bet']]['Win'].sum()\n",
    "        win_rate = winning_bets / total_bets\n",
    "        profit = test_results['Return'].sum()\n",
    "        roi = profit / (total_bets * 110)\n",
    "        \n",
    "        results.append({\n",
    "            'Threshold': threshold,\n",
    "            'Total Bets': total_bets,\n",
    "            'Win Rate': win_rate,\n",
    "            'Profit': profit,\n",
    "            'ROI': roi\n",
    "        })\n",
    "\n",
    "# Display results for different thresholds\n",
    "results_df = pd.DataFrame(results)\n",
    "print(\"\\nBetting Strategy Results for Different Confidence Thresholds:\")\n",
    "print(results_df)\n",
    "\n",
    "# Find optimal threshold\n",
    "if results:\n",
    "    best_threshold = results_df.loc[results_df['ROI'].idxmax()]\n",
    "    print(f\"\\nOptimal threshold: {best_threshold['Threshold']}\")\n",
    "    print(f\"With this threshold, you would place {best_threshold['Total Bets']} bets\")\n",
    "    print(f\"Win rate: {best_threshold['Win Rate']:.4f}\")\n",
    "    print(f\"Profit: ${best_threshold['Profit']:.2f}\")\n",
    "    print(f\"ROI: {best_threshold['ROI']:.4f}\")"
   ]
  },
  {
   "cell_type": "code",
   "execution_count": 72,
   "id": "89fc60ac-5e7f-4655-a8b6-9738db37157a",
   "metadata": {},
   "outputs": [
    {
     "name": "stdout",
     "output_type": "stream",
     "text": [
      "\n",
      "Creating visualizations...\n",
      "Saved feature importance plot as 'xgboost_feature_importance.png'\n"
     ]
    },
    {
     "data": {
      "image/png": "[encoded data removed]",
      "text/plain": [
       "<Figure size 600x400 with 1 Axes>"
      ]
     },
     "metadata": {},
     "output_type": "display_data"
    }
   ],
   "source": [
    "# --- 9. Visualization ---\n",
    "print(\"\\nCreating visualizations...\")\n",
    "\n",
    "# Feature importance plot\n",
    "plt.figure(figsize=(6, 4))\n",
    "top_features = feature_importance.head(min(10, len(feature_importance)))\n",
    "sns.barplot(x='Importance', y='Feature', data=top_features)\n",
    "plt.title('Top Feature Importance (XGBoost)')\n",
    "plt.tight_layout()\n",
    "plt.savefig('xgboost_feature_importance.png')\n",
    "print(\"Saved feature importance plot as 'xgboost_feature_importance.png'\")"
   ]
  },
  {
   "cell_type": "code",
   "execution_count": 73,
   "id": "34219115-4e8f-4417-85fa-3fb4f6a7ebfd",
   "metadata": {},
   "outputs": [
    {
     "name": "stdout",
     "output_type": "stream",
     "text": [
      "Saved prediction distribution plot as 'xgboost_prediction_distribution.png'\n"
     ]
    },
    {
     "data": {
      "image/png": "[encoded data removed]",
      "text/plain": [
       "<Figure size 600x400 with 1 Axes>"
      ]
     },
     "metadata": {},
     "output_type": "display_data"
    }
   ],
   "source": [
    "# Prediction probability distribution\n",
    "plt.figure(figsize=(6, 4))\n",
    "sns.histplot(prob_pred, bins=20, kde=True)\n",
    "plt.axvline(0.5, color='red', linestyle='--')\n",
    "plt.title('Distribution of XGBoost Prediction Probabilities')\n",
    "plt.xlabel('Probability of Home Team Covering')\n",
    "plt.savefig('xgboost_prediction_distribution.png')\n",
    "print(\"Saved prediction distribution plot as 'xgboost_prediction_distribution.png'\")"
   ]
  },
  {
   "cell_type": "code",
   "execution_count": 74,
   "id": "ed6dbbda-25f0-4fec-b6bb-1f86eafc68f9",
   "metadata": {},
   "outputs": [
    {
     "name": "stdout",
     "output_type": "stream",
     "text": [
      "Saved threshold analysis plot as 'threshold_vs_roi.png'\n",
      "\n",
      "XGBoost model development complete!\n",
      "\n",
      "Next steps:\n",
      "1. Collect more data features like team trends, weather, and player injuries\n",
      "2. Implement feature engineering to create more predictive variables\n",
      "3. Consider backtesting over multiple seasons\n",
      "4. Explore different betting strategies beyond simple thresholding\n"
     ]
    },
    {
     "data": {
      "image/png": "[encoded data removed]",
      "text/plain": [
       "<Figure size 600x400 with 1 Axes>"
      ]
     },
     "metadata": {},
     "output_type": "display_data"
    }
   ],
   "source": [
    "# Plot ROI vs Threshold\n",
    "if results:\n",
    "    plt.figure(figsize=(6, 4))\n",
    "    plt.plot(results_df['Threshold'], results_df['ROI'], marker='o')\n",
    "    plt.axhline(y=0, color='r', linestyle='--')\n",
    "    plt.title('ROI vs. Confidence Threshold')\n",
    "    plt.xlabel('Confidence Threshold')\n",
    "    plt.ylabel('Return on Investment')\n",
    "    plt.grid(True)\n",
    "    plt.savefig('threshold_vs_roi.png')\n",
    "    print(\"Saved threshold analysis plot as 'threshold_vs_roi.png'\")\n",
    "\n",
    "print(\"\\nXGBoost model development complete!\")\n",
    "print(\"\\nNext steps:\")\n",
    "print(\"1. Collect more data features like team trends, weather, and player injuries\")\n",
    "print(\"2. Implement feature engineering to create more predictive variables\")\n",
    "print(\"3. Consider backtesting over multiple seasons\")\n",
    "print(\"4. Explore different betting strategies beyond simple thresholding\")"
   ]
  },
  {
   "cell_type": "code",
   "execution_count": null,
   "id": "5e7101df-8b48-43a9-b79f-67eb500eaa6d",
   "metadata": {},
   "outputs": [],
   "source": []
  }
 ],
 "metadata": {
  "kernelspec": {
   "display_name": "Python (mlops)",
   "language": "python",
   "name": "mlops"
  },
  "language_info": {
   "codemirror_mode": {
    "name": "ipython",
    "version": 3
   },
   "file_extension": ".py",
   "mimetype": "text/x-python",
   "name": "python",
   "nbconvert_exporter": "python",
   "pygments_lexer": "ipython3",
   "version": "3.12.9"
  }
 },
 "nbformat": 4,
 "nbformat_minor": 5
}
